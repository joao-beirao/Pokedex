{
 "cells": [
  {
   "cell_type": "markdown",
   "metadata": {},
   "source": [
    "# <span style=\"color:#ff6363\">**Pokedex**</span> "
   ]
  },
  {
   "cell_type": "markdown",
   "metadata": {},
   "source": [
    "## Libraries"
   ]
  },
  {
   "cell_type": "markdown",
   "metadata": {},
   "source": [
    "Pokemon API<p>\n",
    "`import pokebase as pb`<p>\n",
    "Matplotlib Images<p>\n",
    "`import matplotlib.pyplot as plt`<p>\n",
    "`import matplotlib.image as mpimg`"
   ]
  },
  {
   "cell_type": "markdown",
   "metadata": {},
   "source": [
    "## Code"
   ]
  },
  {
   "cell_type": "markdown",
   "metadata": {},
   "source": [
    "Get Pokemon by name<p>\n",
    "`rayquaza = pb.pokemon('rayquaza')`<p>\n",
    "Get Pokemon by ID<p>\n",
    "`pokemon = pb.pokemon(1)`<P>\n",
    "Get Berry by name<p>\n",
    "`chesto = pb.APIResource('berry', 'chesto')`"
   ]
  },
  {
   "cell_type": "markdown",
   "metadata": {},
   "source": [
    "Get Pokemon Image by ID<p>\n",
    "`img = pb.SpriteResource('pokemon', 384)`<p>\n",
    "Print Image<p>\n",
    "`image = mpimg.imread(img.url)`<p>\n",
    "`imgplot = plt.imshow(image)`<p>\n",
    "`plt.show()`<p>"
   ]
  },
  {
   "cell_type": "markdown",
   "metadata": {},
   "source": [
    "Get Stats ID<p>\n",
    "`for stats_slot in rayquaza.stats:`<p>\n",
    "`   print('{}: {}'.format(stats_slot.stat.name.title(), stats_slot.base_stat))` <p> \n",
    "(Json returns stat *name* as Str and *base_stat* as number for each stat )"
   ]
  },
  {
   "cell_type": "markdown",
   "metadata": {},
   "source": [
    "## Tables"
   ]
  },
  {
   "cell_type": "markdown",
   "metadata": {},
   "source": [
    "Create table with data<p>\n",
    "`table = pandas.DataFrame({`<p>`'Names': [array]`<p>`'Sizes': [array]`<p>`})`"
   ]
  }
 ],
 "metadata": {
  "language_info": {
   "name": "python"
  },
  "orig_nbformat": 4
 },
 "nbformat": 4,
 "nbformat_minor": 2
}
